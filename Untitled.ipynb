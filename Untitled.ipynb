{
 "cells": [
  {
   "cell_type": "code",
   "execution_count": 3,
   "id": "0c3c70d5-d4bf-4d3f-b784-e7243a789a5e",
   "metadata": {},
   "outputs": [
    {
     "name": "stdout",
     "output_type": "stream",
     "text": [
      "[[0 0 0 0]\n",
      " [0 0 0 0]\n",
      " [0 0 0 0]]\n",
      "[[6.23042070e-307 4.67296746e-307 1.69121096e-306 9.79099724e-307]\n",
      " [1.69121910e-306 1.42419938e-306 7.56603881e-307 8.45603440e-307]\n",
      " [3.56043054e-307 1.60219306e-306 6.23059726e-307 1.06811422e-306]\n",
      " [3.56043054e-307 1.37961641e-306 8.90071135e-308 8.01097889e-307]\n",
      " [1.78020169e-306 7.56601165e-307 1.02359984e-306 1.33510679e-306]\n",
      " [2.22522597e-306 1.24611674e-306 1.29061821e-306 2.29178686e-312]]\n",
      "[0. 0. 0. 0. 0. 0. 0. 0. 0. 0. 0. 0.]\n",
      "[[0.+0.j 0.+0.j 0.+0.j 0.+0.j]\n",
      " [0.+0.j 0.+0.j 0.+0.j 0.+0.j]\n",
      " [0.+0.j 0.+0.j 0.+0.j 0.+0.j]]\n",
      "[[(0, 0) (0, 0) (0, 0)]\n",
      " [(0, 0) (0, 0) (0, 0)]\n",
      " [(0, 0) (0, 0) (0, 0)]]\n",
      "[[1 1 1 1]\n",
      " [1 1 1 1]\n",
      " [1 1 1 1]]\n"
     ]
    }
   ],
   "source": [
    "import numpy as np \n",
    "\n",
    "# 创建为初始化的\n",
    "a1=np.empty([3,4],dtype = int)\n",
    "a2=np.empty([6,4],dtype = float)\n",
    "print(a1)\n",
    "print(a2)\n",
    "\n",
    "\n",
    "# 创建0矩阵\n",
    "a3=np.zeros(12)\n",
    "print(a3)\n",
    "a4=np.zeros((3,4),dtype=complex)\n",
    "print(a4)\n",
    "a5 = np.zeros((3,3), dtype = [('x', 'i4'), ('y', 'i4')]) \n",
    "print(a5)\n",
    "\n",
    "# 创建单位矩阵\n",
    "a6=np.ones((3,4),dtype = int)\n",
    "print(a6)\n",
    "\n",
    "# 将列表转化为矩阵\n"
   ]
  },
  {
   "cell_type": "code",
   "execution_count": 3,
   "id": "cf84c885-8792-48d8-9f27-51eb8d243b47",
   "metadata": {},
   "outputs": [
    {
     "name": "stdout",
     "output_type": "stream",
     "text": [
      "[[0 0 0 0]\n",
      " [0 0 0 0]\n",
      " [0 0 0 0]]\n",
      "[[6.23042070e-307 4.67296746e-307 1.69121096e-306 9.79099724e-307]\n",
      " [1.69121910e-306 1.42419938e-306 7.56603881e-307 8.45603440e-307]\n",
      " [3.56043054e-307 1.60219306e-306 6.23059726e-307 1.06811422e-306]\n",
      " [3.56043054e-307 1.37961641e-306 8.90071135e-308 8.01097889e-307]\n",
      " [1.78020169e-306 7.56601165e-307 1.02359984e-306 1.33510679e-306]\n",
      " [2.22522597e-306 1.24611674e-306 1.29061821e-306 2.29178686e-312]]\n",
      "[0. 0. 0. 0. 0. 0. 0. 0. 0. 0. 0. 0.]\n",
      "[[0.+0.j 0.+0.j 0.+0.j 0.+0.j]\n",
      " [0.+0.j 0.+0.j 0.+0.j 0.+0.j]\n",
      " [0.+0.j 0.+0.j 0.+0.j 0.+0.j]]\n",
      "[[(0, 0) (0, 0) (0, 0)]\n",
      " [(0, 0) (0, 0) (0, 0)]\n",
      " [(0, 0) (0, 0) (0, 0)]]\n",
      "[[1 1 1 1]\n",
      " [1 1 1 1]\n",
      " [1 1 1 1]]\n"
     ]
    }
   ],
   "source": [
    "import numpy as np \n",
    "\n",
    "# 创建为初始化的\n",
    "a1=np.empty([3,4],dtype = int)\n",
    "a2=np.empty([6,4],dtype = float)\n",
    "print(a1)\n",
    "print(a2)\n",
    "\n",
    "\n",
    "# 创建0矩阵\n",
    "a3=np.zeros(12)\n",
    "print(a3)\n",
    "a4=np.zeros((3,4),dtype=complex)\n",
    "print(a4)\n",
    "a5 = np.zeros((3,3), dtype = [('x', 'i4'), ('y', 'i4')]) \n",
    "print(a5)\n",
    "\n",
    "# 创建单位矩阵\n",
    "a6=np.ones((3,4),dtype = int)\n",
    "print(a6)\n",
    "\n",
    "# 将列表转化为矩阵\n"
   ]
  },
  {
   "cell_type": "code",
   "execution_count": 4,
   "id": "0e6f0214-1915-43f0-88ac-6ff6085ebd84",
   "metadata": {},
   "outputs": [
    {
     "name": "stdout",
     "output_type": "stream",
     "text": [
      "[[1 1 1 1]\n",
      " [1 1 1 1]\n",
      " [1 1 1 1]]\n"
     ]
    }
   ],
   "source": [
    "# 创建单位矩阵\n",
    "a6=np.ones((3,4),dtype = int)\n",
    "print(a6)"
   ]
  },
  {
   "cell_type": "code",
   "execution_count": null,
   "id": "1ed28b1e-f78b-4372-a6bf-5735a6fcbda4",
   "metadata": {},
   "outputs": [],
   "source": []
  }
 ],
 "metadata": {
  "kernelspec": {
   "display_name": "Python 3 (ipykernel)",
   "language": "python",
   "name": "python3"
  },
  "language_info": {
   "codemirror_mode": {
    "name": "ipython",
    "version": 3
   },
   "file_extension": ".py",
   "mimetype": "text/x-python",
   "name": "python",
   "nbconvert_exporter": "python",
   "pygments_lexer": "ipython3",
   "version": "3.10.5"
  }
 },
 "nbformat": 4,
 "nbformat_minor": 5
}
